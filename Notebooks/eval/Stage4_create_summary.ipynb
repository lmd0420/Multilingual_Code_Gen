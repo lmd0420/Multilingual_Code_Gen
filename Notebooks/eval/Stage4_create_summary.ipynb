{
  "nbformat": 4,
  "nbformat_minor": 0,
  "metadata": {
    "colab": {
      "provenance": []
    },
    "kernelspec": {
      "name": "python3",
      "display_name": "Python 3"
    },
    "language_info": {
      "name": "python"
    }
  },
  "cells": [
    {
      "cell_type": "code",
      "execution_count": null,
      "metadata": {
        "colab": {
          "base_uri": "https://localhost:8080/"
        },
        "id": "f3ZPhVv87KWy",
        "outputId": "46c44673-255c-440c-917b-d44c03498003"
      },
      "outputs": [
        {
          "output_type": "stream",
          "name": "stdout",
          "text": [
            "Drive already mounted at /content/drive; to attempt to forcibly remount, call drive.mount(\"/content/drive\", force_remount=True).\n"
          ]
        }
      ],
      "source": [
        "from google.colab import drive\n",
        "drive.mount('/content/drive')\n"
      ]
    },
    {
      "cell_type": "code",
      "source": [
        "import pandas as pd\n",
        "import matplotlib.pyplot as plt\n",
        "from mpl_toolkits.mplot3d import Axes3D\n",
        "import glob\n",
        "# from google.colab import drive\n",
        "\n",
        "# drive.mount('/content/drive')\n",
        "\n",
        "# Replace this with the actual path\n",
        "path = '/content/drive/MyDrive/MultilingualLLMBias/results'\n",
        "\n",
        "# Search for specific CSV files in the subfolders\n",
        "all_files = glob.glob(path + '/**/*_summary_results.csv', recursive=True)\n",
        "for i in all_files:\n",
        "  print(i)\n",
        "dfs = []\n",
        "\n",
        "for filename in all_files:\n",
        "    df = pd.read_csv(filename, index_col=None, header=0)\n",
        "    model_name = filename.split('/')[-2].replace('results-', '')\n",
        "    df['Model'] = model_name\n",
        "    dfs.append(df)\n",
        "\n",
        "big_frame = pd.concat(dfs, ignore_index=True)\n",
        "\n",
        "# Sort DataFrame to ensure GPT4 appears first\n",
        "big_frame['sort'] = big_frame['Model'].apply(lambda x: 0 if 'GPT' in x else 1)\n",
        "big_frame = big_frame.sort_values(by=['sort', 'Model', 'Language']).drop(columns='sort')\n",
        "\n",
        "total_tests = 257\n",
        "big_frame['Code Completion Rate'] = ((total_tests - big_frame['Incomplete Code']) / total_tests * 100).round(2)\n",
        "big_frame['Logical Error Rate'] = ((big_frame['Logical Errors'] / total_tests).round(5) * 100 ).round(2)\n",
        "big_frame['Syntax Error Rate'] = ((big_frame['Syntax Errors'] / total_tests).round(5) * 100 ).round(2)\n",
        "big_frame['All Test Passed Rate'] = ((big_frame['All Tests Passed'] / total_tests).round(5) *100 ).round(2)\n",
        "\n",
        "big_frame['Logical Error Rate'] =  ((100 - big_frame['Syntax Error Rate'] - big_frame['All Test Passed Rate']).round(5) ).round(2)\n",
        "big_frame['Total Error Rate'] = ((100 - big_frame['All Test Passed Rate']).round(5) ).round(2)\n",
        "big_frame['Average Code Length'] = big_frame['Average Code Length'].round(2)\n",
        "\n",
        "\n",
        "# result_table = big_frame[['Model', 'Language', 'Code Completion Rate', 'Logical Error Rate', 'Syntax Error Rate', 'All Test Passed Rate', 'Average Code Length']]\n",
        "result_table = big_frame[['Model', 'Language', 'Total Error Rate', 'Logical Error Rate', 'Syntax Error Rate', 'All Test Passed Rate', 'Code Completion Rate','Average Code Length']]\n",
        "\n",
        "print(result_table)\n",
        "result_table = result_table.sort_values(by=[\"Model\",\"Language\"], ascending=True)\n",
        "# Save the result table to a new CSV file\n",
        "result_table.to_csv('/content/drive/MyDrive/MultilingualLLMBias/results/all_result_table.csv', index=False)\n",
        "\n",
        "\n"
      ],
      "metadata": {
        "colab": {
          "base_uri": "https://localhost:8080/"
        },
        "id": "4KkAogbM-Dbz",
        "outputId": "ec4b9514-7668-46b5-8f72-7b15ac60b5ec"
      },
      "execution_count": null,
      "outputs": [
        {
          "output_type": "stream",
          "name": "stdout",
          "text": [
            "/content/drive/MyDrive/MultilingualLLMBias/results/results-codelamma-7b-instruct/results-codelamma-7b-instruct_summary_results.csv\n",
            "/content/drive/MyDrive/MultilingualLLMBias/results/results-GPT4/results-GPT4_summary_results.csv\n",
            "/content/drive/MyDrive/MultilingualLLMBias/results/results-GPT3.5/results-GPT3.5_summary_results.csv\n",
            "/content/drive/MyDrive/MultilingualLLMBias/results/results-Mistral-7B-instruct-v0.3-LASER/results-Mistral-7B-instruct-v0.3-LASER_summary_results.csv\n",
            "/content/drive/MyDrive/MultilingualLLMBias/results/results-Mistral-7B-Instruct-v0.3/results-Mistral-7B-Instruct-v0.3_summary_results.csv\n",
            "/content/drive/MyDrive/MultilingualLLMBias/results/results-Mistral-7B-Instruct-v0.3-CoT/results-Mistral-7B-Instruct-v0.3-CoT_summary_results.csv\n",
            "/content/drive/MyDrive/MultilingualLLMBias/results/results-GPT3.5-CoT/results-GPT3.5-CoT_summary_results.csv\n",
            "/content/drive/MyDrive/MultilingualLLMBias/results/results-codelamma-7b-instruct-CoT/results-codelamma-7b-instruct-CoT_summary_results.csv\n",
            "/content/drive/MyDrive/MultilingualLLMBias/results/results-codelamma-7b-instruct-FT-GPT/results-codelamma-7b-instruct-FT-GPT_summary_results.csv\n",
            "/content/drive/MyDrive/MultilingualLLMBias/results/results-codelamma-7b-instruct-LASER/results-codelamma-7b-instruct-LASER_summary_results.csv\n",
            "/content/drive/MyDrive/MultilingualLLMBias/results/results-codegemma7b-instruct-LASER/results-codegemma7b-instruct-LASER_summary_results.csv\n",
            "/content/drive/MyDrive/MultilingualLLMBias/results/results-codegemma7b-instruct-CoT/results-codegemma7b-instruct-CoT_summary_results.csv\n",
            "/content/drive/MyDrive/MultilingualLLMBias/results/results-codegemma7b-instruct/results-codegemma7b-instruct_summary_results.csv\n",
            "/content/drive/MyDrive/MultilingualLLMBias/results/results-Mistral-7B-Instruct-v0.3-FT-GPT/results-Mistral-7B-Instruct-v0.3-FT-GPT_summary_results.csv\n",
            "/content/drive/MyDrive/MultilingualLLMBias/results/results-GPT3.5-FT-GPT/results-GPT3.5-FT-GPT_summary_results.csv\n",
            "/content/drive/MyDrive/MultilingualLLMBias/results/results-codegemma7b-instruct-FT-GPT (1)/results-codegemma7b-instruct-FT-GPT_summary_results.csv\n",
            "                          Model Language  Total Error Rate  \\\n",
            "17                       GPT3.5       en             72.76   \n",
            "14                       GPT3.5       es             73.93   \n",
            "12                       GPT3.5       hi             80.55   \n",
            "15                       GPT3.5       ja             74.32   \n",
            "16                       GPT3.5       ru             71.98   \n",
            "..                          ...      ...               ...   \n",
            "54  codelamma-7b-instruct-LASER       es             81.71   \n",
            "51  codelamma-7b-instruct-LASER       hi             95.72   \n",
            "55  codelamma-7b-instruct-LASER       ja             84.44   \n",
            "56  codelamma-7b-instruct-LASER       ru             82.88   \n",
            "52  codelamma-7b-instruct-LASER    zh-cn             82.10   \n",
            "\n",
            "    Logical Error Rate  Syntax Error Rate  All Test Passed Rate  \\\n",
            "17               21.01              51.75                 27.24   \n",
            "14               20.23              53.70                 26.07   \n",
            "12               29.19              51.36                 19.45   \n",
            "15               23.74              50.58                 25.68   \n",
            "16               20.62              51.36                 28.02   \n",
            "..                 ...                ...                   ...   \n",
            "54               24.90              56.81                 18.29   \n",
            "51               25.29              70.43                  4.28   \n",
            "55               22.96              61.48                 15.56   \n",
            "56               23.35              59.53                 17.12   \n",
            "52               26.46              55.64                 17.90   \n",
            "\n",
            "    Code Completion Rate  Average Code Length  \n",
            "17                100.00               185.35  \n",
            "14                100.00               212.65  \n",
            "12                100.00               161.70  \n",
            "15                100.00               164.46  \n",
            "16                 99.61               165.15  \n",
            "..                   ...                  ...  \n",
            "54                 95.72               124.46  \n",
            "51                 98.44               118.85  \n",
            "55                 98.44               123.29  \n",
            "56                 99.22               118.45  \n",
            "52                 98.05               131.94  \n",
            "\n",
            "[92 rows x 8 columns]\n"
          ]
        }
      ]
    }
  ]
}